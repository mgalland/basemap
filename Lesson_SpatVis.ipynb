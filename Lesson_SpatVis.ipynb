{
 "cells": [
  {
   "cell_type": "code",
   "execution_count": 1,
   "metadata": {},
   "outputs": [
    {
     "name": "stdout",
     "output_type": "stream",
     "text": [
      "Solving environment: ...working... done\n",
      "\n",
      "# All requested packages already installed.\n",
      "\n"
     ]
    }
   ],
   "source": [
    "!conda install -c conda-forge --yes basemap-data-hires"
   ]
  },
  {
   "cell_type": "code",
   "execution_count": 2,
   "metadata": {},
   "outputs": [
    {
     "name": "stdout",
     "output_type": "stream",
     "text": [
      "Solving environment: ...working... done\n",
      "\n",
      "## Package Plan ##\n",
      "\n",
      "  environment location: C:\\Users\\zsofi\\Anaconda3\n",
      "\n",
      "  added / updated specs: \n",
      "    - pillow\n",
      "\n",
      "\n",
      "The following packages will be downloaded:\n",
      "\n",
      "    package                    |            build\n",
      "    ---------------------------|-----------------\n",
      "    tk-8.6.7                   |       hcb92d03_3         3.5 MB\n",
      "    certifi-2018.4.16          |           py36_0         143 KB\n",
      "    kiwisolver-1.0.1           |   py36h12c3424_0          61 KB\n",
      "    pillow-5.1.0               |   py36h0738816_0         648 KB\n",
      "    freetype-2.8               |       h51f8f2c_1         468 KB\n",
      "    libtiff-4.0.9              |       hb8ad9f9_1         831 KB\n",
      "    matplotlib-2.2.2           |   py36h153e9ff_0         6.5 MB\n",
      "    conda-4.5.4                |           py36_0         1.0 MB\n",
      "    ------------------------------------------------------------\n",
      "                                           Total:        13.1 MB\n",
      "\n",
      "The following NEW packages will be INSTALLED:\n",
      "\n",
      "    kiwisolver:      1.0.1-py36h12c3424_0            \n",
      "\n",
      "The following packages will be UPDATED:\n",
      "\n",
      "    certifi:         2018.4.16-py36_0     conda-forge --> 2018.4.16-py36_0    \n",
      "    conda:           4.5.4-py36_0         conda-forge --> 4.5.4-py36_0        \n",
      "    freetype:        2.7-vc14_1           conda-forge [vc14] --> 2.8-h51f8f2c_1      \n",
      "    libtiff:         4.0.6-vc14_7         conda-forge [vc14] --> 4.0.9-hb8ad9f9_1    \n",
      "    matplotlib:      2.0.2-np113py36_0                --> 2.2.2-py36h153e9ff_0\n",
      "    openssl:         1.0.2o-vc14_0        conda-forge [vc14] --> 1.0.2o-h8ea7d77_0   \n",
      "    pillow:          4.3.0-py36_1         conda-forge --> 5.1.0-py36h0738816_0\n",
      "    tk:              8.5.19-vc14_1        conda-forge [vc14] --> 8.6.7-hcb92d03_3    \n",
      "\n",
      "The following packages will be DOWNGRADED:\n",
      "\n",
      "    ca-certificates: 2018.4.16-0          conda-forge --> 2018.03.07-0        \n",
      "\n",
      "\n",
      "Downloading and Extracting Packages\n",
      "Preparing transaction: ...working... done\n",
      "Verifying transaction: ...working... done\n",
      "Executing transaction: ...working... done\n"
     ]
    },
    {
     "name": "stderr",
     "output_type": "stream",
     "text": [
      "\n",
      "tk-8.6.7             |  3.5 MB |            |   0% \n",
      "tk-8.6.7             |  3.5 MB | #2         |  12% \n",
      "tk-8.6.7             |  3.5 MB | ###6       |  37% \n",
      "tk-8.6.7             |  3.5 MB | ######1    |  61% \n",
      "tk-8.6.7             |  3.5 MB | #######6   |  76% \n",
      "tk-8.6.7             |  3.5 MB | ########6  |  86% \n",
      "tk-8.6.7             |  3.5 MB | #########3 |  94% \n",
      "tk-8.6.7             |  3.5 MB | #########9 | 100% \n",
      "tk-8.6.7             |  3.5 MB | ########## | 100% \n",
      "\n",
      "certifi-2018.4.16    |  143 KB |            |   0% \n",
      "certifi-2018.4.16    |  143 KB | 8          |   8% \n",
      "certifi-2018.4.16    |  143 KB | ########## | 100% \n",
      "\n",
      "kiwisolver-1.0.1     |   61 KB |            |   0% \n",
      "kiwisolver-1.0.1     |   61 KB | ########## | 100% \n",
      "\n",
      "pillow-5.1.0         |  648 KB |            |   0% \n",
      "pillow-5.1.0         |  648 KB | ########1  |  82% \n",
      "pillow-5.1.0         |  648 KB | ########## | 100% \n",
      "\n",
      "freetype-2.8         |  468 KB |            |   0% \n",
      "freetype-2.8         |  468 KB | ########5  |  85% \n",
      "freetype-2.8         |  468 KB | ########## | 100% \n",
      "\n",
      "libtiff-4.0.9        |  831 KB |            |   0% \n",
      "libtiff-4.0.9        |  831 KB | #######8   |  78% \n",
      "libtiff-4.0.9        |  831 KB | ########## | 100% \n",
      "\n",
      "matplotlib-2.2.2     |  6.5 MB |            |   0% \n",
      "matplotlib-2.2.2     |  6.5 MB | 8          |   8% \n",
      "matplotlib-2.2.2     |  6.5 MB | ##1        |  22% \n",
      "matplotlib-2.2.2     |  6.5 MB | ###4       |  35% \n",
      "matplotlib-2.2.2     |  6.5 MB | ####7      |  48% \n",
      "matplotlib-2.2.2     |  6.5 MB | ######1    |  61% \n",
      "matplotlib-2.2.2     |  6.5 MB | #######4   |  74% \n",
      "matplotlib-2.2.2     |  6.5 MB | ########5  |  86% \n",
      "matplotlib-2.2.2     |  6.5 MB | #########3 |  94% \n",
      "matplotlib-2.2.2     |  6.5 MB | #########9 | 100% \n",
      "matplotlib-2.2.2     |  6.5 MB | ########## | 100% \n",
      "\n",
      "conda-4.5.4          |  1.0 MB |            |   0% \n",
      "conda-4.5.4          |  1.0 MB | #####7     |  58% \n",
      "conda-4.5.4          |  1.0 MB | ########   |  80% \n",
      "conda-4.5.4          |  1.0 MB | #########1 |  91% \n",
      "conda-4.5.4          |  1.0 MB | #########9 |  99% \n",
      "conda-4.5.4          |  1.0 MB | ########## | 100% \n"
     ]
    }
   ],
   "source": [
    "!conda install --yes pillow netCDF4"
   ]
  },
  {
   "cell_type": "code",
   "execution_count": 3,
   "metadata": {
    "collapsed": true
   },
   "outputs": [],
   "source": [
    "import numpy as np\n",
    "import matplotlib.pyplot as plt\n",
    "from mpl_toolkits.basemap import Basemap"
   ]
  },
  {
   "cell_type": "code",
   "execution_count": 4,
   "metadata": {},
   "outputs": [
    {
     "name": "stderr",
     "output_type": "stream",
     "text": [
      "Clipping input data to the valid range for imshow with RGB data ([0..1] for floats or [0..255] for integers).\n",
      "C:\\Users\\zsofi\\Anaconda3\\lib\\site-packages\\mpl_toolkits\\basemap\\__init__.py:1711: MatplotlibDeprecationWarning: The axesPatch function was deprecated in version 2.1. Use Axes.patch instead.\n",
      "  if limb is not ax.axesPatch:\n"
     ]
    }
   ],
   "source": [
    "plt.figure(figsize=(8, 8))\n",
    "m = Basemap(projection='ortho', resolution=None, lat_0=50, lon_0=-100)\n",
    "m.bluemarble(scale=0.5);"
   ]
  },
  {
   "cell_type": "code",
   "execution_count": null,
   "metadata": {
    "collapsed": true
   },
   "outputs": [],
   "source": [
    "fig = plt.figure(figsize=(8, 8))\n",
    "m = Basemap(projection='lcc', resolution=None,\n",
    "            width=8E6, height=8E6, \n",
    "            lat_0=45, lon_0=-100,)\n",
    "m.etopo(scale=0.5, alpha=0.5)\n",
    "\n",
    "# Map (long, lat) to (x, y) for plotting\n",
    "x, y = m(-122.3, 47.6)\n",
    "plt.plot(x, y, 'ok', markersize=5)\n",
    "plt.text(x, y, ' Seattle', fontsize=12);"
   ]
  },
  {
   "cell_type": "code",
   "execution_count": null,
   "metadata": {
    "collapsed": true
   },
   "outputs": [],
   "source": [
    "fig, ax = plt.subplots(1, 2, figsize=(12, 8))\n",
    "\n",
    "for i, res in enumerate(['l', 'h']):\n",
    "    m = Basemap(projection='gnom', lat_0=57.3, lon_0=-6.2,\n",
    "                width=90000, height=120000, resolution=res, ax=ax[i])\n",
    "    m.fillcontinents(color=\"#FFDDCC\", lake_color='#DDEEFF')\n",
    "    m.drawmapboundary(fill_color=\"#DDEEFF\")\n",
    "    m.drawcoastlines()\n",
    "    ax[i].set_title(\"resolution='{0}'\".format(res));"
   ]
  },
  {
   "cell_type": "code",
   "execution_count": null,
   "metadata": {
    "collapsed": true
   },
   "outputs": [],
   "source": [
    "import pandas as pd\n",
    "cities = pd.read_csv('california_cities.csv')\n",
    "\n",
    "# Extract the data we're interested in\n",
    "lat = cities['latd'].values\n",
    "lon = cities['longd'].values\n",
    "population = cities['population_total'].values\n",
    "area = cities['area_total_km2'].values"
   ]
  },
  {
   "cell_type": "code",
   "execution_count": null,
   "metadata": {
    "collapsed": true
   },
   "outputs": [],
   "source": [
    "# 1. Draw the map background\n",
    "fig = plt.figure(figsize=(8, 8))\n",
    "m = Basemap(projection='lcc', resolution='h', \n",
    "            lat_0=37.5, lon_0=-119,\n",
    "            width=1E6, height=1.2E6)\n",
    "m.shadedrelief()\n",
    "m.drawcoastlines(color='gray')\n",
    "m.drawcountries(color='gray')\n",
    "m.drawstates(color='gray')\n",
    "\n",
    "# 2. scatter city data, with color reflecting population\n",
    "# and size reflecting area\n",
    "m.scatter(lon, lat, latlon=True,\n",
    "          c=np.log10(population), s=area,\n",
    "          cmap='Reds', alpha=0.5)\n",
    "\n",
    "# 3. create colorbar and legend\n",
    "plt.colorbar(label=r'$\\log_{10}({\\rm population})$')\n",
    "plt.clim(3, 7)\n",
    "\n",
    "# make legend with dummy points\n",
    "for a in [100, 300, 500]:\n",
    "    plt.scatter([], [], c='k', alpha=0.5, s=a,\n",
    "                label=str(a) + ' km$^2$')\n",
    "plt.legend(scatterpoints=1, frameon=False,\n",
    "           labelspacing=1, loc='lower left');"
   ]
  },
  {
   "cell_type": "code",
   "execution_count": null,
   "metadata": {
    "collapsed": true
   },
   "outputs": [],
   "source": [
    "from netCDF4 import Dataset\n",
    "data = Dataset('gistemp250.nc')\n",
    "\n",
    "from netCDF4 import date2index\n",
    "from datetime import datetime\n",
    "timeindex = date2index(datetime(2014, 1, 15),\n",
    "                       data.variables['time'])\n",
    "\n",
    "lat = data.variables['lat'][:]\n",
    "lon = data.variables['lon'][:]\n",
    "lon, lat = np.meshgrid(lon, lat)\n",
    "temp_anomaly = data.variables['tempanomaly'][timeindex]"
   ]
  },
  {
   "cell_type": "code",
   "execution_count": null,
   "metadata": {
    "collapsed": true
   },
   "outputs": [],
   "source": [
    "fig = plt.figure(figsize=(10, 8))\n",
    "m = Basemap(projection='lcc', resolution='c',\n",
    "            width=8E6, height=8E6, \n",
    "            lat_0=45, lon_0=-100,)\n",
    "m.shadedrelief(scale=0.5)\n",
    "m.pcolormesh(lon, lat, temp_anomaly,\n",
    "             latlon=True, cmap='RdBu_r')\n",
    "plt.clim(-8, 8)\n",
    "m.drawcoastlines(color='lightgray')\n",
    "\n",
    "plt.title('January 2014 Temperature Anomaly')\n",
    "plt.colorbar(label='temperature anomaly (°C)');"
   ]
  }
 ],
 "metadata": {
  "kernelspec": {
   "display_name": "Python 2",
   "language": "python",
   "name": "python2"
  },
  "language_info": {
   "codemirror_mode": {
    "name": "ipython",
    "version": 2
   },
   "file_extension": ".py",
   "mimetype": "text/x-python",
   "name": "python",
   "nbconvert_exporter": "python",
   "pygments_lexer": "ipython2",
   "version": "2.7.14"
  }
 },
 "nbformat": 4,
 "nbformat_minor": 2
}
